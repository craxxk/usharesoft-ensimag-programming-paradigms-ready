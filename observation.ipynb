{
 "cells": [
  {
   "cell_type": "markdown",
   "metadata": {},
   "source": [
    "**Mise des données sous forme de tableau**"
   ]
  },
  {
   "cell_type": "code",
   "execution_count": 15,
   "metadata": {},
   "outputs": [
    {
     "data": {
      "text/html": [
       "<div>\n",
       "<style scoped>\n",
       "    .dataframe tbody tr th:only-of-type {\n",
       "        vertical-align: middle;\n",
       "    }\n",
       "\n",
       "    .dataframe tbody tr th {\n",
       "        vertical-align: top;\n",
       "    }\n",
       "\n",
       "    .dataframe thead th {\n",
       "        text-align: right;\n",
       "    }\n",
       "</style>\n",
       "<table border=\"1\" class=\"dataframe\">\n",
       "  <thead>\n",
       "    <tr style=\"text-align: right;\">\n",
       "      <th></th>\n",
       "      <th>Amertume</th>\n",
       "      <th>Brasserie</th>\n",
       "      <th>Fermentation</th>\n",
       "      <th>Gout</th>\n",
       "      <th>Nom</th>\n",
       "      <th>Pays</th>\n",
       "      <th>Remarque</th>\n",
       "      <th>Soif</th>\n",
       "      <th>Tx_Alcool</th>\n",
       "    </tr>\n",
       "  </thead>\n",
       "  <tbody>\n",
       "    <tr>\n",
       "      <th>0</th>\n",
       "      <td>0.0</td>\n",
       "      <td>br. Heller</td>\n",
       "      <td>basse</td>\n",
       "      <td>3.5</td>\n",
       "      <td>Aecht Schlenkerla Eiche Doppelbock</td>\n",
       "      <td>Allemagne</td>\n",
       "      <td>Bière fumée</td>\n",
       "      <td>1.5</td>\n",
       "      <td>8.0</td>\n",
       "    </tr>\n",
       "    <tr>\n",
       "      <th>1</th>\n",
       "      <td>1.0</td>\n",
       "      <td>Outland</td>\n",
       "      <td>haute</td>\n",
       "      <td>4.0</td>\n",
       "      <td>Merica</td>\n",
       "      <td>France</td>\n",
       "      <td>American IPA</td>\n",
       "      <td>1.0</td>\n",
       "      <td>6.4</td>\n",
       "    </tr>\n",
       "    <tr>\n",
       "      <th>2</th>\n",
       "      <td>0.5</td>\n",
       "      <td>Scheldebrouwerij</td>\n",
       "      <td>haute</td>\n",
       "      <td>3.0</td>\n",
       "      <td>n Toeback</td>\n",
       "      <td>Pays-Bas</td>\n",
       "      <td>Blonde forte</td>\n",
       "      <td>0.0</td>\n",
       "      <td>9.0</td>\n",
       "    </tr>\n",
       "    <tr>\n",
       "      <th>3</th>\n",
       "      <td>0.0</td>\n",
       "      <td>br. de Molen</td>\n",
       "      <td>haute</td>\n",
       "      <td>2.5</td>\n",
       "      <td>t Ooievaartje Krieken Rosé</td>\n",
       "      <td>Pays-Bas</td>\n",
       "      <td>Bière à la cerise</td>\n",
       "      <td>0.5</td>\n",
       "      <td>5.2</td>\n",
       "    </tr>\n",
       "    <tr>\n",
       "      <th>4</th>\n",
       "      <td>1.0</td>\n",
       "      <td>Birra 08</td>\n",
       "      <td>haute</td>\n",
       "      <td>3.0</td>\n",
       "      <td>08003 Barceloneta</td>\n",
       "      <td>Espagne</td>\n",
       "      <td>Bière blonde</td>\n",
       "      <td>2.0</td>\n",
       "      <td>2.9</td>\n",
       "    </tr>\n",
       "  </tbody>\n",
       "</table>\n",
       "</div>"
      ],
      "text/plain": [
       "   Amertume         Brasserie Fermentation  Gout  \\\n",
       "0       0.0        br. Heller        basse   3.5   \n",
       "1       1.0           Outland        haute   4.0   \n",
       "2       0.5  Scheldebrouwerij        haute   3.0   \n",
       "3       0.0      br. de Molen        haute   2.5   \n",
       "4       1.0         Birra 08         haute   3.0   \n",
       "\n",
       "                                  Nom       Pays           Remarque  Soif  \\\n",
       "0  Aecht Schlenkerla Eiche Doppelbock  Allemagne        Bière fumée   1.5   \n",
       "1                              Merica     France       American IPA   1.0   \n",
       "2                           n Toeback   Pays-Bas       Blonde forte   0.0   \n",
       "3         t Ooievaartje Krieken Rosé    Pays-Bas  Bière à la cerise   0.5   \n",
       "4                   08003 Barceloneta    Espagne       Bière blonde   2.0   \n",
       "\n",
       "   Tx_Alcool  \n",
       "0        8.0  \n",
       "1        6.4  \n",
       "2        9.0  \n",
       "3        5.2  \n",
       "4        2.9  "
      ]
     },
     "execution_count": 15,
     "metadata": {},
     "output_type": "execute_result"
    }
   ],
   "source": [
    "import pandas as pd\n",
    "\n",
    "data = pd.read_json(\"beer_list.json\", encoding='utf8')\n",
    "data.head()\n",
    "\n"
   ]
  },
  {
   "cell_type": "markdown",
   "metadata": {},
   "source": [
    "**La provenance de differentes bières**"
   ]
  },
  {
   "cell_type": "code",
   "execution_count": 17,
   "metadata": {},
   "outputs": [
    {
     "data": {
      "text/plain": [
       "<matplotlib.axes._subplots.AxesSubplot at 0x1b562aed780>"
      ]
     },
     "execution_count": 17,
     "metadata": {},
     "output_type": "execute_result"
    },
    {
     "data": {
      "image/png": "[encoded data removed]",
      "text/plain": [
       "<Figure size 1296x432 with 1 Axes>"
      ]
     },
     "metadata": {
      "needs_background": "light"
     },
     "output_type": "display_data"
    }
   ],
   "source": [
    "data['Pays'].value_counts().plot.bar(figsize = (18, 6))"
   ]
  },
  {
   "cell_type": "markdown",
   "metadata": {},
   "source": [
    "**La repartition des bieres selon l'amertume**"
   ]
  },
  {
   "cell_type": "code",
   "execution_count": 11,
   "metadata": {},
   "outputs": [
    {
     "data": {
      "text/plain": [
       "<matplotlib.axes._subplots.AxesSubplot at 0x1b561e37d30>"
      ]
     },
     "execution_count": 11,
     "metadata": {},
     "output_type": "execute_result"
    },
    {
     "data": {
      "image/png": "[encoded data removed]",
      "text/plain": [
       "<Figure size 432x288 with 1 Axes>"
      ]
     },
     "metadata": {
      "needs_background": "light"
     },
     "output_type": "display_data"
    }
   ],
   "source": [
    "data['Amertume'].plot.hist()"
   ]
  },
  {
   "cell_type": "markdown",
   "metadata": {},
   "source": [
    "**La repartition selon le type de bière: TOP 20**"
   ]
  },
  {
   "cell_type": "code",
   "execution_count": 19,
   "metadata": {},
   "outputs": [
    {
     "data": {
      "text/plain": [
       "<matplotlib.axes._subplots.AxesSubplot at 0x1b564bd9400>"
      ]
     },
     "execution_count": 19,
     "metadata": {},
     "output_type": "execute_result"
    },
    {
     "data": {
      "image/png": "[encoded data removed]",
      "text/plain": [
       "<Figure size 1296x432 with 1 Axes>"
      ]
     },
     "metadata": {
      "needs_background": "light"
     },
     "output_type": "display_data"
    }
   ],
   "source": [
    "data['Remarque'].value_counts().head(20).plot.bar(figsize=(18, 6))"
   ]
  },
  {
   "cell_type": "markdown",
   "metadata": {},
   "source": [
    "**Plutôt fermentés ou pas?**"
   ]
  },
  {
   "cell_type": "code",
   "execution_count": 23,
   "metadata": {},
   "outputs": [
    {
     "data": {
      "text/plain": [
       "<matplotlib.axes._subplots.AxesSubplot at 0x1b5656e7160>"
      ]
     },
     "execution_count": 23,
     "metadata": {},
     "output_type": "execute_result"
    },
    {
     "data": {
      "image/png": "[encoded data removed]",
      "text/plain": [
       "<Figure size 1152x432 with 1 Axes>"
      ]
     },
     "metadata": {
      "needs_background": "light"
     },
     "output_type": "display_data"
    }
   ],
   "source": [
    "data['Fermentation'].value_counts().plot.bar(figsize=(16, 6))"
   ]
  },
  {
   "cell_type": "markdown",
   "metadata": {},
   "source": [
    "**Max, moyennes, minimums**"
   ]
  },
  {
   "cell_type": "code",
   "execution_count": 24,
   "metadata": {},
   "outputs": [
    {
     "data": {
      "text/html": [
       "<div>\n",
       "<style scoped>\n",
       "    .dataframe tbody tr th:only-of-type {\n",
       "        vertical-align: middle;\n",
       "    }\n",
       "\n",
       "    .dataframe tbody tr th {\n",
       "        vertical-align: top;\n",
       "    }\n",
       "\n",
       "    .dataframe thead th {\n",
       "        text-align: right;\n",
       "    }\n",
       "</style>\n",
       "<table border=\"1\" class=\"dataframe\">\n",
       "  <thead>\n",
       "    <tr style=\"text-align: right;\">\n",
       "      <th></th>\n",
       "      <th>Amertume</th>\n",
       "      <th>Gout</th>\n",
       "      <th>Soif</th>\n",
       "      <th>Tx_Alcool</th>\n",
       "    </tr>\n",
       "  </thead>\n",
       "  <tbody>\n",
       "    <tr>\n",
       "      <th>count</th>\n",
       "      <td>2001.000000</td>\n",
       "      <td>2034.000000</td>\n",
       "      <td>2000.000000</td>\n",
       "      <td>2058.000000</td>\n",
       "    </tr>\n",
       "    <tr>\n",
       "      <th>mean</th>\n",
       "      <td>0.771864</td>\n",
       "      <td>2.973894</td>\n",
       "      <td>1.037750</td>\n",
       "      <td>6.531735</td>\n",
       "    </tr>\n",
       "    <tr>\n",
       "      <th>std</th>\n",
       "      <td>0.665247</td>\n",
       "      <td>1.122516</td>\n",
       "      <td>0.705832</td>\n",
       "      <td>2.013762</td>\n",
       "    </tr>\n",
       "    <tr>\n",
       "      <th>min</th>\n",
       "      <td>0.000000</td>\n",
       "      <td>0.000000</td>\n",
       "      <td>0.000000</td>\n",
       "      <td>0.500000</td>\n",
       "    </tr>\n",
       "    <tr>\n",
       "      <th>25%</th>\n",
       "      <td>0.000000</td>\n",
       "      <td>2.000000</td>\n",
       "      <td>0.500000</td>\n",
       "      <td>5.000000</td>\n",
       "    </tr>\n",
       "    <tr>\n",
       "      <th>50%</th>\n",
       "      <td>0.500000</td>\n",
       "      <td>3.000000</td>\n",
       "      <td>1.000000</td>\n",
       "      <td>6.000000</td>\n",
       "    </tr>\n",
       "    <tr>\n",
       "      <th>75%</th>\n",
       "      <td>1.000000</td>\n",
       "      <td>4.000000</td>\n",
       "      <td>1.500000</td>\n",
       "      <td>7.500000</td>\n",
       "    </tr>\n",
       "    <tr>\n",
       "      <th>max</th>\n",
       "      <td>2.000000</td>\n",
       "      <td>5.000000</td>\n",
       "      <td>2.000000</td>\n",
       "      <td>26.000000</td>\n",
       "    </tr>\n",
       "  </tbody>\n",
       "</table>\n",
       "</div>"
      ],
      "text/plain": [
       "          Amertume         Gout         Soif    Tx_Alcool\n",
       "count  2001.000000  2034.000000  2000.000000  2058.000000\n",
       "mean      0.771864     2.973894     1.037750     6.531735\n",
       "std       0.665247     1.122516     0.705832     2.013762\n",
       "min       0.000000     0.000000     0.000000     0.500000\n",
       "25%       0.000000     2.000000     0.500000     5.000000\n",
       "50%       0.500000     3.000000     1.000000     6.000000\n",
       "75%       1.000000     4.000000     1.500000     7.500000\n",
       "max       2.000000     5.000000     2.000000    26.000000"
      ]
     },
     "execution_count": 24,
     "metadata": {},
     "output_type": "execute_result"
    }
   ],
   "source": [
    "data.describe()"
   ]
  },
  {
   "cell_type": "code",
   "execution_count": 25,
   "metadata": {},
   "outputs": [
    {
     "data": {
      "text/html": [
       "<div>\n",
       "<style scoped>\n",
       "    .dataframe tbody tr th:only-of-type {\n",
       "        vertical-align: middle;\n",
       "    }\n",
       "\n",
       "    .dataframe tbody tr th {\n",
       "        vertical-align: top;\n",
       "    }\n",
       "\n",
       "    .dataframe thead th {\n",
       "        text-align: right;\n",
       "    }\n",
       "</style>\n",
       "<table border=\"1\" class=\"dataframe\">\n",
       "  <thead>\n",
       "    <tr style=\"text-align: right;\">\n",
       "      <th></th>\n",
       "      <th>Amertume</th>\n",
       "      <th>Brasserie</th>\n",
       "      <th>Fermentation</th>\n",
       "      <th>Gout</th>\n",
       "      <th>Nom</th>\n",
       "      <th>Pays</th>\n",
       "      <th>Remarque</th>\n",
       "      <th>Soif</th>\n",
       "      <th>Tx_Alcool</th>\n",
       "    </tr>\n",
       "  </thead>\n",
       "  <tbody>\n",
       "    <tr>\n",
       "      <th>0</th>\n",
       "      <td>0.0</td>\n",
       "      <td>br. Heller</td>\n",
       "      <td>basse</td>\n",
       "      <td>3.5</td>\n",
       "      <td>Aecht Schlenkerla Eiche Doppelbock</td>\n",
       "      <td>Allemagne</td>\n",
       "      <td>Bière fumée</td>\n",
       "      <td>1.5</td>\n",
       "      <td>8.0</td>\n",
       "    </tr>\n",
       "    <tr>\n",
       "      <th>1</th>\n",
       "      <td>1.0</td>\n",
       "      <td>Outland</td>\n",
       "      <td>haute</td>\n",
       "      <td>4.0</td>\n",
       "      <td>Merica</td>\n",
       "      <td>France</td>\n",
       "      <td>American IPA</td>\n",
       "      <td>1.0</td>\n",
       "      <td>6.4</td>\n",
       "    </tr>\n",
       "    <tr>\n",
       "      <th>2</th>\n",
       "      <td>0.5</td>\n",
       "      <td>Scheldebrouwerij</td>\n",
       "      <td>haute</td>\n",
       "      <td>3.0</td>\n",
       "      <td>n Toeback</td>\n",
       "      <td>Pays-Bas</td>\n",
       "      <td>Blonde forte</td>\n",
       "      <td>0.0</td>\n",
       "      <td>9.0</td>\n",
       "    </tr>\n",
       "    <tr>\n",
       "      <th>3</th>\n",
       "      <td>0.0</td>\n",
       "      <td>br. de Molen</td>\n",
       "      <td>haute</td>\n",
       "      <td>2.5</td>\n",
       "      <td>t Ooievaartje Krieken Rosé</td>\n",
       "      <td>Pays-Bas</td>\n",
       "      <td>Bière à la cerise</td>\n",
       "      <td>0.5</td>\n",
       "      <td>5.2</td>\n",
       "    </tr>\n",
       "    <tr>\n",
       "      <th>4</th>\n",
       "      <td>1.0</td>\n",
       "      <td>Birra 08</td>\n",
       "      <td>haute</td>\n",
       "      <td>3.0</td>\n",
       "      <td>08003 Barceloneta</td>\n",
       "      <td>Espagne</td>\n",
       "      <td>Bière blonde</td>\n",
       "      <td>2.0</td>\n",
       "      <td>2.9</td>\n",
       "    </tr>\n",
       "  </tbody>\n",
       "</table>\n",
       "</div>"
      ],
      "text/plain": [
       "   Amertume         Brasserie Fermentation  Gout  \\\n",
       "0       0.0        br. Heller        basse   3.5   \n",
       "1       1.0           Outland        haute   4.0   \n",
       "2       0.5  Scheldebrouwerij        haute   3.0   \n",
       "3       0.0      br. de Molen        haute   2.5   \n",
       "4       1.0         Birra 08         haute   3.0   \n",
       "\n",
       "                                  Nom       Pays           Remarque  Soif  \\\n",
       "0  Aecht Schlenkerla Eiche Doppelbock  Allemagne        Bière fumée   1.5   \n",
       "1                              Merica     France       American IPA   1.0   \n",
       "2                           n Toeback   Pays-Bas       Blonde forte   0.0   \n",
       "3         t Ooievaartje Krieken Rosé    Pays-Bas  Bière à la cerise   0.5   \n",
       "4                   08003 Barceloneta    Espagne       Bière blonde   2.0   \n",
       "\n",
       "   Tx_Alcool  \n",
       "0        8.0  \n",
       "1        6.4  \n",
       "2        9.0  \n",
       "3        5.2  \n",
       "4        2.9  "
      ]
     },
     "execution_count": 25,
     "metadata": {},
     "output_type": "execute_result"
    }
   ],
   "source": [
    "data.head()"
   ]
  },
  {
   "cell_type": "markdown",
   "metadata": {},
   "source": [
    "**Le goût en fonction du taux d'alcool**"
   ]
  },
  {
   "cell_type": "code",
   "execution_count": 30,
   "metadata": {},
   "outputs": [
    {
     "data": {
      "text/plain": [
       "<matplotlib.axes._subplots.AxesSubplot at 0x1b565a4eb00>"
      ]
     },
     "execution_count": 30,
     "metadata": {},
     "output_type": "execute_result"
    },
    {
     "data": {
      "image/png": "[encoded data removed]",
      "text/plain": [
       "<Figure size 432x288 with 1 Axes>"
      ]
     },
     "metadata": {
      "needs_background": "light"
     },
     "output_type": "display_data"
    }
   ],
   "source": [
    "data.plot.scatter(x=\"Tx_Alcool\", y=\"Gout\")"
   ]
  }
 ],
 "metadata": {
  "kernelspec": {
   "display_name": "Python 3",
   "language": "python",
   "name": "python3"
  },
  "language_info": {
   "codemirror_mode": {
    "name": "ipython",
    "version": 3
   },
   "file_extension": ".py",
   "mimetype": "text/x-python",
   "name": "python",
   "nbconvert_exporter": "python",
   "pygments_lexer": "ipython3",
   "version": "3.7.0"
  }
 },
 "nbformat": 4,
 "nbformat_minor": 2
}
